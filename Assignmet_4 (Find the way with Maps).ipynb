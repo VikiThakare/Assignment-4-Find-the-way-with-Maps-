{
 "cells": [
  {
   "cell_type": "code",
   "execution_count": 1,
   "id": "b6814881",
   "metadata": {},
   "outputs": [
    {
     "name": "stdout",
     "output_type": "stream",
     "text": [
      "Original numbers: [1, 2, 3, 4, 5, 6, 7]\n",
      "Triple of each number: [3, 6, 9, 12, 15, 18, 21]\n"
     ]
    }
   ],
   "source": [
    "def triple(number):\n",
    "    return number * 3\n",
    "\n",
    "numbers = [1, 2, 3, 4, 5, 6, 7]\n",
    "\n",
    "tripled_numbers = list(map(triple, numbers))\n",
    "\n",
    "print(\"Original numbers:\", numbers)\n",
    "print(\"Triple of each number:\", tripled_numbers)"
   ]
  },
  {
   "cell_type": "code",
   "execution_count": null,
   "id": "d4487c1f",
   "metadata": {},
   "outputs": [],
   "source": []
  }
 ],
 "metadata": {
  "kernelspec": {
   "display_name": "Python 3 (ipykernel)",
   "language": "python",
   "name": "python3"
  },
  "language_info": {
   "codemirror_mode": {
    "name": "ipython",
    "version": 3
   },
   "file_extension": ".py",
   "mimetype": "text/x-python",
   "name": "python",
   "nbconvert_exporter": "python",
   "pygments_lexer": "ipython3",
   "version": "3.10.9"
  }
 },
 "nbformat": 4,
 "nbformat_minor": 5
}
